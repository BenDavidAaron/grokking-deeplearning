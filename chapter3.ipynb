{
 "cells": [
  {
   "cell_type": "markdown",
   "id": "0eb12973-4551-4b90-bfc1-97f263e4d7bf",
   "metadata": {},
   "source": [
    "# Chapter 3\n",
    "\n",
    "Exercises from Andrew Trask's _Grokking Deeplearning_"
   ]
  },
  {
   "cell_type": "markdown",
   "id": "845592e8-4d87-442e-b2ab-2025d26319ee",
   "metadata": {},
   "source": [
    "## What is a neural network"
   ]
  },
  {
   "cell_type": "code",
   "execution_count": 2,
   "id": "8bfc7471-0702-4311-a488-46f21bc79c14",
   "metadata": {},
   "outputs": [],
   "source": [
    "weight = 0.1\n",
    "\n",
    "def neural_network(X, w):\n",
    "    return X * w"
   ]
  },
  {
   "cell_type": "code",
   "execution_count": 3,
   "id": "35ce19dd-711a-4850-834b-cc1ad5f64cf8",
   "metadata": {},
   "outputs": [
    {
     "data": {
      "text/plain": [
       "0.8500000000000001"
      ]
     },
     "execution_count": 3,
     "metadata": {},
     "output_type": "execute_result"
    }
   ],
   "source": [
    "num_toes = [8.5, 9.5, 10, 9]\n",
    "X_test = num_toes[0]\n",
    "pred = neural_network(X_test, weight)\n",
    "pred"
   ]
  },
  {
   "cell_type": "markdown",
   "id": "823a0a64-e665-422a-8c33-76a2a9de0330",
   "metadata": {},
   "source": [
    "Congrats, the worlds dumbest single-node perceptron\n",
    "\n",
    "...lets try one with multiple inputs"
   ]
  },
  {
   "cell_type": "code",
   "execution_count": 16,
   "id": "9a104afb-ca3a-420f-a383-78e731288cb5",
   "metadata": {},
   "outputs": [],
   "source": [
    "def neural_network(x, weights):\n",
    "    pred = w_sum(x, weights)\n",
    "    return pred\n",
    "\n",
    "def w_sum(a, b):\n",
    "    if len(a) != len(b):\n",
    "        raise ValueError\n",
    "    output = 0\n",
    "    for val, weight in zip(a,b):\n",
    "        output += val * weight\n",
    "    return output\n"
   ]
  },
  {
   "cell_type": "code",
   "execution_count": 18,
   "id": "c4589c42-a72f-45b9-b877-3e610ee2b92f",
   "metadata": {},
   "outputs": [
    {
     "data": {
      "text/plain": [
       "0.9800000000000001"
      ]
     },
     "execution_count": 18,
     "metadata": {},
     "output_type": "execute_result"
    }
   ],
   "source": [
    "toes = [8.5, 9.5, 9.9, 9.0]\n",
    "wlrec = [0.65, 0.8, 0.8, 0.9]\n",
    "nfans = [1.2, 1.3, 0.5, 1.0]\n",
    "\n",
    "inputs = [toes[0], wlrec[0], nfans[0]]\n",
    "weights = [.1, .2, 0]\n",
    "\n",
    "neural_network(inputs, weights)"
   ]
  },
  {
   "cell_type": "markdown",
   "id": "b4ed193c-6364-4488-a90c-6200c4ce1e49",
   "metadata": {},
   "source": [
    "this sucks without vectors, so lets implement some vector ops"
   ]
  },
  {
   "cell_type": "code",
   "execution_count": 20,
   "id": "6d42b633-61c6-468a-b44e-3433d21e124b",
   "metadata": {},
   "outputs": [],
   "source": [
    "from typing import Iterable"
   ]
  },
  {
   "cell_type": "code",
   "execution_count": 25,
   "id": "ff31e6bb-2194-40bd-ba63-52e3b503bc1b",
   "metadata": {},
   "outputs": [],
   "source": [
    "def __raise_for_len_mismatch__(a, b):\n",
    "    \"\"\"Return a value error if these two vectors aren't the same lenght\"\"\"\n",
    "    if len(a) != len(b):\n",
    "        return ValueError\n",
    "    assert all(map(type, a)) == all(map(type, b))\n",
    "\n",
    "def elementwise_multiplication(a: Iterable[float], b: Iterable[float]):\n",
    "    __raise_for_len_mismatch__(a,b)\n",
    "    return [i * j for i, j in zip(a,b)]\n",
    "\n",
    "def elementwise_addition(a, b):\n",
    "    __raise_for_len_mismatch__(a,b)\n",
    "    return [i + j for i, j in zip(a,b)]\n",
    "\n",
    "def vector_sum(a):\n",
    "    return sum(a)\n",
    "\n",
    "def vector_avg(a):\n",
    "    return vector_sum(a) / len(a)"
   ]
  },
  {
   "cell_type": "markdown",
   "id": "1db58146-78be-4315-9e06-05b4ecd9501f",
   "metadata": {},
   "source": [
    "So now we can make a dot product, which describes the similarity of two vectors"
   ]
  },
  {
   "cell_type": "code",
   "execution_count": 26,
   "id": "89d33a72-0d3f-4501-9627-e71e8ff302d9",
   "metadata": {},
   "outputs": [],
   "source": [
    "def dot_product(a, b):\n",
    "    __raise_for_len_mismatch__(a, b)\n",
    "    return vector_sum(\n",
    "        elementwise_multiplication(\n",
    "            a,b\n",
    "        )\n",
    "    )"
   ]
  },
  {
   "cell_type": "code",
   "execution_count": 29,
   "id": "4223a862-3c48-4a28-ae5f-f024c221090e",
   "metadata": {},
   "outputs": [
    {
     "data": {
      "text/plain": [
       "2"
      ]
     },
     "execution_count": 29,
     "metadata": {},
     "output_type": "execute_result"
    }
   ],
   "source": [
    "dot_product(\n",
    "    [0,1,0,1],\n",
    "    [0,1,0,1]\n",
    ")"
   ]
  },
  {
   "cell_type": "code",
   "execution_count": 31,
   "id": "7eec0920-3d59-43da-ba96-7e2b5353b469",
   "metadata": {},
   "outputs": [
    {
     "data": {
      "text/plain": [
       "1"
      ]
     },
     "execution_count": 31,
     "metadata": {},
     "output_type": "execute_result"
    }
   ],
   "source": [
    "dot_product(\n",
    "    [0, 0, 0, 1],\n",
    "    [1, 0, 0, 1]\n",
    ")"
   ]
  },
  {
   "cell_type": "markdown",
   "id": "82d7cb08-4fea-4059-85fc-f803433905c2",
   "metadata": {},
   "source": [
    "How about with multiple outputs?"
   ]
  },
  {
   "cell_type": "code",
   "execution_count": 32,
   "id": "42a772b2-10d0-426c-945e-c2d1d163b210",
   "metadata": {},
   "outputs": [],
   "source": [
    "def neural_network(input, weights):\n",
    "    return elementwise_multiplication(input, weights)"
   ]
  },
  {
   "cell_type": "code",
   "execution_count": 33,
   "id": "2f125ed8-2110-40ac-a203-d6e503a32418",
   "metadata": {},
   "outputs": [
    {
     "data": {
      "text/plain": [
       "[0.065, 0.16000000000000003, 0.0]"
      ]
     },
     "execution_count": 33,
     "metadata": {},
     "output_type": "execute_result"
    }
   ],
   "source": [
    "win_loss_record = [.65, .8, .8, .9]\n",
    "neural_network(win_loss_record, weights)"
   ]
  },
  {
   "cell_type": "markdown",
   "id": "d40ad561-2d57-40d3-872a-2af6cc36ec5d",
   "metadata": {},
   "source": [
    "Well that's pretty neato"
   ]
  },
  {
   "cell_type": "code",
   "execution_count": 37,
   "id": "ce1cef8a-5598-407b-8a40-39851a10e4f4",
   "metadata": {},
   "outputs": [],
   "source": [
    "def multiplex_network(input, weights):\n",
    "    return vec_mat_mul(input, weights)\n",
    "\n",
    "def vec_mat_mul(vector, matrix):\n",
    "    assert len(vector) == len(matrix)\n",
    "    return [dot_product(vector, weights) for weights in matrix]"
   ]
  },
  {
   "cell_type": "code",
   "execution_count": 39,
   "id": "516f5f21-d628-4249-aa0d-9aecac950503",
   "metadata": {},
   "outputs": [
    {
     "data": {
      "text/plain": [
       "[0.555, 0.9800000000000001, 0.9650000000000001]"
      ]
     },
     "execution_count": 39,
     "metadata": {},
     "output_type": "execute_result"
    }
   ],
   "source": [
    "weights = [\n",
    "    [0.1, 0.1, -0.3],\n",
    "    [0.1, 0.2, 0.0],\n",
    "    [0.0, 1.3, 0.1]\n",
    "]\n",
    "\n",
    "multiplex_network(\n",
    "   [8.5, 0.65, 1.2], weights\n",
    ")"
   ]
  },
  {
   "cell_type": "markdown",
   "id": "1d844b49-3504-4c9a-a470-c112c6fcec38",
   "metadata": {},
   "source": [
    "## numpy primer, cause It's been a while"
   ]
  },
  {
   "cell_type": "code",
   "execution_count": 40,
   "id": "45b0d6a8-43a2-49ac-8e34-048befe00dfa",
   "metadata": {},
   "outputs": [],
   "source": [
    "import numpy as np"
   ]
  },
  {
   "cell_type": "code",
   "execution_count": 46,
   "id": "21c82103-d536-4a89-8037-f88309ff64d1",
   "metadata": {},
   "outputs": [],
   "source": [
    "a = np.array([0,1,2,3])\n",
    "b = np.array([4,5,6,7])\n",
    "c = np.array([\n",
    "    [0,1,2,3],\n",
    "    [4,5,6,7]\n",
    "])\n",
    "d = np.zeros((2,4))\n",
    "e = np.random.rand(2,5)"
   ]
  },
  {
   "cell_type": "code",
   "execution_count": 47,
   "id": "fccbd25b-b58d-4a77-ba21-548e55492e28",
   "metadata": {},
   "outputs": [
    {
     "data": {
      "text/plain": [
       "array([0, 1, 2, 3])"
      ]
     },
     "execution_count": 47,
     "metadata": {},
     "output_type": "execute_result"
    }
   ],
   "source": [
    "a"
   ]
  },
  {
   "cell_type": "code",
   "execution_count": 48,
   "id": "3dbe786d-092a-4325-a73e-cd14bbebce7d",
   "metadata": {},
   "outputs": [
    {
     "data": {
      "text/plain": [
       "array([4, 5, 6, 7])"
      ]
     },
     "execution_count": 48,
     "metadata": {},
     "output_type": "execute_result"
    }
   ],
   "source": [
    "b"
   ]
  },
  {
   "cell_type": "code",
   "execution_count": 49,
   "id": "dabc6892-e5b3-42db-9919-e7f4a1dc521a",
   "metadata": {},
   "outputs": [
    {
     "data": {
      "text/plain": [
       "array([[0, 1, 2, 3],\n",
       "       [4, 5, 6, 7]])"
      ]
     },
     "execution_count": 49,
     "metadata": {},
     "output_type": "execute_result"
    }
   ],
   "source": [
    "c"
   ]
  },
  {
   "cell_type": "code",
   "execution_count": 50,
   "id": "dc1c6033-a5ba-4335-a493-fe89db0df091",
   "metadata": {},
   "outputs": [
    {
     "data": {
      "text/plain": [
       "array([[0., 0., 0., 0.],\n",
       "       [0., 0., 0., 0.]])"
      ]
     },
     "execution_count": 50,
     "metadata": {},
     "output_type": "execute_result"
    }
   ],
   "source": [
    "d"
   ]
  },
  {
   "cell_type": "code",
   "execution_count": 51,
   "id": "a8841f3c-fe61-439e-8d88-5a0cdee781e5",
   "metadata": {},
   "outputs": [
    {
     "data": {
      "text/plain": [
       "array([[0.29263815, 0.09105858, 0.41895689, 0.89905801, 0.15790361],\n",
       "       [0.54224045, 0.12202438, 0.04154941, 0.03993777, 0.51715568]])"
      ]
     },
     "execution_count": 51,
     "metadata": {},
     "output_type": "execute_result"
    }
   ],
   "source": [
    "e"
   ]
  },
  {
   "cell_type": "code",
   "execution_count": 52,
   "id": "20bbd7fb-cb5b-4a71-9cbe-4ea7cc4a8c9d",
   "metadata": {},
   "outputs": [
    {
     "data": {
      "text/plain": [
       "array([0. , 0.1, 0.2, 0.3])"
      ]
     },
     "execution_count": 52,
     "metadata": {},
     "output_type": "execute_result"
    }
   ],
   "source": [
    "a*0.1"
   ]
  },
  {
   "cell_type": "code",
   "execution_count": 53,
   "id": "10789a4b-8052-496e-891d-448c94d096d2",
   "metadata": {},
   "outputs": [
    {
     "data": {
      "text/plain": [
       "array([[0. , 0.2, 0.4, 0.6],\n",
       "       [0.8, 1. , 1.2, 1.4]])"
      ]
     },
     "execution_count": 53,
     "metadata": {},
     "output_type": "execute_result"
    }
   ],
   "source": [
    "c*0.2"
   ]
  },
  {
   "cell_type": "code",
   "execution_count": 54,
   "id": "45bf1d58-9e08-472c-86ae-1264e4a78eec",
   "metadata": {},
   "outputs": [
    {
     "data": {
      "text/plain": [
       "array([[ 0,  1,  4,  9],\n",
       "       [ 0,  5, 12, 21]])"
      ]
     },
     "execution_count": 54,
     "metadata": {},
     "output_type": "execute_result"
    }
   ],
   "source": [
    "a*c"
   ]
  },
  {
   "cell_type": "code",
   "execution_count": 55,
   "id": "39453b86-5332-4de8-bced-9a9cd35a4ef4",
   "metadata": {},
   "outputs": [
    {
     "data": {
      "text/plain": [
       "array([[ 0,  5, 12, 21],\n",
       "       [16, 25, 36, 49]])"
      ]
     },
     "execution_count": 55,
     "metadata": {},
     "output_type": "execute_result"
    }
   ],
   "source": [
    "b*c"
   ]
  },
  {
   "cell_type": "code",
   "execution_count": 56,
   "id": "30e90d82-d22c-470a-9bff-ebfdf64cf918",
   "metadata": {},
   "outputs": [
    {
     "ename": "ValueError",
     "evalue": "operands could not be broadcast together with shapes (4,) (2,5) ",
     "output_type": "error",
     "traceback": [
      "\u001b[0;31m---------------------------------------------------------------------------\u001b[0m",
      "\u001b[0;31mValueError\u001b[0m                                Traceback (most recent call last)",
      "Input \u001b[0;32mIn [56]\u001b[0m, in \u001b[0;36m<cell line: 1>\u001b[0;34m()\u001b[0m\n\u001b[0;32m----> 1\u001b[0m \u001b[43ma\u001b[49m\u001b[38;5;241;43m*\u001b[39;49m\u001b[43me\u001b[49m\n",
      "\u001b[0;31mValueError\u001b[0m: operands could not be broadcast together with shapes (4,) (2,5) "
     ]
    }
   ],
   "source": [
    "a * e"
   ]
  },
  {
   "cell_type": "code",
   "execution_count": null,
   "id": "979dfd14-8cb7-4de8-9bbb-dc3ea34239d2",
   "metadata": {},
   "outputs": [],
   "source": []
  }
 ],
 "metadata": {
  "kernelspec": {
   "display_name": "Python 3 (ipykernel)",
   "language": "python",
   "name": "python3"
  },
  "language_info": {
   "codemirror_mode": {
    "name": "ipython",
    "version": 3
   },
   "file_extension": ".py",
   "mimetype": "text/x-python",
   "name": "python",
   "nbconvert_exporter": "python",
   "pygments_lexer": "ipython3",
   "version": "3.9.10"
  }
 },
 "nbformat": 4,
 "nbformat_minor": 5
}
