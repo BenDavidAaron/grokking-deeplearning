{
 "cells": [
  {
   "cell_type": "markdown",
   "metadata": {},
   "source": [
    "# Interpreting Stoplight Meanings"
   ]
  },
  {
   "cell_type": "code",
   "execution_count": 1,
   "metadata": {},
   "outputs": [],
   "source": [
    "import numpy as np"
   ]
  },
  {
   "cell_type": "code",
   "execution_count": 2,
   "metadata": {},
   "outputs": [],
   "source": [
    "streetlight_states = np.array(\n",
    "    [\n",
    "        [1, 0, 1],\n",
    "        [0, 1, 1],\n",
    "        [0, 0, 1],\n",
    "        [1, 1, 1],\n",
    "        [0, 1, 1],\n",
    "        [1, 0, 1],\n",
    "    ]\n",
    ")\n",
    "\n",
    "walk_states = np.array(\n",
    "    [\n",
    "        [0],\n",
    "        [1],\n",
    "        [0],\n",
    "        [1],\n",
    "        [1],\n",
    "        [0],\n",
    "    ]\n",
    ")"
   ]
  },
  {
   "cell_type": "code",
   "execution_count": 3,
   "metadata": {},
   "outputs": [
    {
     "name": "stdout",
     "output_type": "stream",
     "text": [
      "Error: [0.64] Prediction: 0.8\n",
      "Error: [0.4096] Prediction: 0.6399999999999999\n",
      "Error: [0.262144] Prediction: 0.512\n",
      "Error: [0.16777216] Prediction: 0.40959999999999996\n",
      "Error: [0.10737418] Prediction: 0.32767999999999997\n",
      "Error: [0.06871948] Prediction: 0.26214399999999993\n",
      "Error: [0.04398047] Prediction: 0.20971519999999996\n",
      "Error: [0.0281475] Prediction: 0.16777215999999998\n",
      "Error: [0.0180144] Prediction: 0.13421772799999995\n",
      "Error: [0.01152922] Prediction: 0.10737418239999996\n",
      "Error: [0.0073787] Prediction: 0.08589934591999997\n",
      "Error: [0.00472237] Prediction: 0.06871947673599997\n",
      "Error: [0.00302231] Prediction: 0.054975581388799974\n",
      "Error: [0.00193428] Prediction: 0.04398046511103998\n",
      "Error: [0.00123794] Prediction: 0.03518437208883199\n",
      "Error: [0.00079228] Prediction: 0.028147497671065586\n",
      "Error: [0.00050706] Prediction: 0.022517998136852457\n",
      "Error: [0.00032452] Prediction: 0.01801439850948197\n",
      "Error: [0.00020769] Prediction: 0.014411518807585566\n",
      "Error: [0.00013292] Prediction: 0.011529215046068464\n"
     ]
    }
   ],
   "source": [
    "weights = np.array([0.5, 0.2, 0.3])\n",
    "alpha = 0.1\n",
    "\n",
    "input = streetlight_states[0]\n",
    "goal_prediction=walk_states[0]\n",
    "\n",
    "for i in range(20):\n",
    "    prediction = input.dot(weights)\n",
    "    error = (goal_prediction - prediction) ** 2\n",
    "    delta = prediction - goal_prediction\n",
    "    weights = weights - (alpha * (input * delta))\n",
    "    print(f\"Error: {error} Prediction: {prediction}\")"
   ]
  },
  {
   "cell_type": "markdown",
   "metadata": {},
   "source": [
    "But how do we train a model on the full set?"
   ]
  },
  {
   "cell_type": "code",
   "execution_count": 4,
   "metadata": {},
   "outputs": [
    {
     "name": "stdout",
     "output_type": "stream",
     "text": [
      "Prediction: 1.2548748430623422\n",
      "Prediction: 1.2946840400269766\n",
      "Prediction: 0.6857257019864702\n",
      "Prediction: 1.4558804302836403\n",
      "Prediction: 1.075998575766206\n",
      "Prediction: 0.8070829566151804\n",
      "Error: [0.6513829] Prediction: [2.99675494]\n",
      "Prediction: 0.6456663652921443\n",
      "Prediction: 0.9155239284222324\n",
      "Prediction: 0.42713790614988273\n",
      "Prediction: 0.987548145364407\n",
      "Prediction: 0.8921957230499162\n",
      "Prediction: 0.49553770739863084\n",
      "Error: [0.24555762] Prediction: [0.86380248]\n",
      "Prediction: 0.39643016591890473\n",
      "Prediction: 0.8245597911081795\n",
      "Prediction: 0.32479696225089066\n",
      "Prediction: 0.8370593280348697\n",
      "Prediction: 0.8597562710544806\n",
      "Prediction: 0.3488209646867948\n",
      "Error: [0.12167607] Prediction: [0.46132324]\n",
      "Prediction: 0.2790567717494359\n",
      "Prediction: 0.8250172431999615\n",
      "Prediction: 0.2773462081532474\n",
      "Prediction: 0.7956766586709496\n",
      "Prediction: 0.8731438420104545\n",
      "Prediction: 0.2665593563289924\n",
      "Error: [0.07105389] Prediction: [0.31430697]\n",
      "Prediction: 0.2132474850631939\n",
      "Prediction: 0.850534389469145\n",
      "Prediction: 0.2496954141836491\n",
      "Prediction: 0.7913071050769426\n",
      "Prediction: 0.8971965491415624\n",
      "Prediction: 0.21259393175573096\n",
      "Error: [0.04519618] Prediction: [0.22947971]\n",
      "Prediction: 0.17007514540458477\n",
      "Prediction: 0.8794903315972183\n",
      "Prediction: 0.22965956646768027\n",
      "Prediction: 0.7990778253272723\n",
      "Prediction: 0.9208107435655521\n",
      "Prediction: 0.17324848709516827\n",
      "Error: [0.03001504] Prediction: [0.17284735]\n",
      "Prediction: 0.1385987896761346\n",
      "Prediction: 0.9054638671753115\n",
      "Prediction: 0.21297363853696835\n",
      "Prediction: 0.8104327363729605\n",
      "Prediction: 0.9409871826119602\n",
      "Prediction: 0.1428500156338916\n",
      "Error: [0.02040613] Prediction: [0.13332886]\n",
      "Prediction: 0.11428001250711327\n",
      "Prediction: 0.9270767432754677\n",
      "Prediction: 0.19811360564313218\n",
      "Prediction: 0.8224527640910726\n",
      "Prediction: 0.9573594812378463\n",
      "Prediction: 0.11867847417183149\n",
      "Error: [0.01408458] Prediction: [0.10505254]\n",
      "Prediction: 0.09494277933746517\n",
      "Prediction: 0.9445254596393474\n",
      "Prediction: 0.18450634923106268\n",
      "Prediction: 0.8341650610633464\n",
      "Prediction: 0.9703367205757023\n",
      "Prediction: 0.09918435831269161\n",
      "Error: [0.00983754] Prediction: [0.08435282]\n",
      "Prediction: 0.07934748665015329\n",
      "Prediction: 0.9584161919642774\n",
      "Prediction: 0.17191073245133928\n",
      "Prediction: 0.8452675179986435\n",
      "Prediction: 0.9804883767265592\n",
      "Prediction: 0.08334295560617631\n",
      "Error: [0.00694605] Prediction: [0.06884743]\n",
      "Prediction: 0.06667436448494106\n",
      "Prediction: 0.9693889693721356\n",
      "Prediction: 0.1602034407873598\n",
      "Prediction: 0.855687985282352\n",
      "Prediction: 0.9883532343625021\n",
      "Prediction: 0.07040733007928272\n",
      "Error: [0.00495719] Prediction: [0.05696645]\n",
      "Prediction: 0.056325864063426184\n",
      "Prediction: 0.9780092680757307\n",
      "Prediction: 0.14930472852229446\n",
      "Prediction: 0.8654319775292286\n",
      "Prediction: 0.9943905461025094\n",
      "Prediction: 0.05980384147484173\n",
      "Error: [0.0035765] Prediction: [0.04766462]\n",
      "Prediction: 0.047843073179873394\n",
      "Prediction: 0.984747745416536\n",
      "Prediction: 0.13915253729976607\n",
      "Prediction: 0.8745300893057313\n",
      "Prediction: 0.9989769247421061\n",
      "Prediction: 0.05108071993691164\n",
      "Error: [0.00260924] Prediction: [0.040238]\n",
      "Prediction: 0.0408645759495293\n",
      "Prediction: 0.9899870102050408\n",
      "Prediction: 0.1296933515558575\n",
      "Prediction: 0.8830198811917087\n",
      "Prediction: 1.0024162967701051\n",
      "Prediction: 0.04387801866818132\n",
      "Error: [0.00192528] Prediction: [0.03420601]\n",
      "Prediction: 0.035102414934545065\n",
      "Prediction: 0.9940349940558114\n",
      "Prediction: 0.12087885583823658\n",
      "Prediction: 0.8909396863646437\n",
      "Prediction: 1.0049521723878967\n",
      "Prediction: 0.037907392446512825\n",
      "Error: [0.00143697] Prediction: [0.02923511]\n",
      "Prediction: 0.03032591395721025\n",
      "Prediction: 0.9971384072699451\n",
      "Prediction: 0.11266461301179205\n",
      "Prediction: 0.8983265419417585\n",
      "Prediction: 1.006778956126425\n",
      "Prediction: 0.03293722513660027\n",
      "Error: [0.00108486] Prediction: [0.02508947]\n",
      "Prediction: 0.026349780109280213\n",
      "Prediction: 0.999494464376552\n",
      "Prediction: 0.10500945494155124\n",
      "Prediction: 0.9052155487153043\n",
      "Prediction: 1.0080515162640256\n",
      "Prediction: 0.02878117078615043\n",
      "Error: [0.00082836] Prediction: [0.02159883]\n",
      "Prediction: 0.023024936628920342\n",
      "Prediction: 1.0012606022697135\n",
      "Prediction: 0.0978751319809847\n",
      "Prediction: 0.9116397257128526\n",
      "Prediction: 1.0088930234751017\n",
      "Prediction: 0.025289128387985776\n",
      "Error: [0.00063954] Prediction: [0.01863744]\n",
      "Prediction: 0.020231302710388616\n",
      "Prediction: 1.002562375670244\n",
      "Prediction: 0.09122606318722898\n",
      "Prediction: 0.9176300356315297\n",
      "Prediction: 1.0094012870911662\n",
      "Prediction: 0.022340062447141054\n",
      "Error: [0.00049908] Prediction: [0.01611034]\n",
      "Prediction: 0.01787204995771284\n",
      "Prediction: 1.0034998184324477\n",
      "Prediction: 0.08502913151250632\n",
      "Prediction: 0.9232154682051267\n",
      "Prediction: 1.009653847953682\n",
      "Prediction: 0.01983626653528131\n",
      "Error: [0.00039348] Prediction: [0.01394415]\n",
      "Prediction: 0.015869013228225037\n",
      "Prediction: 1.0041525503865951\n",
      "Prediction: 0.07925350373036466\n",
      "Prediction: 0.9284231417497955\n",
      "Prediction: 1.0097120615862805\n",
      "Prediction: 0.017698770662296914\n",
      "Error: [0.00031325] Prediction: [0.012081]\n",
      "Prediction: 0.014159016529837531\n",
      "Prediction: 1.004583870549811\n",
      "Prediction: 0.07387046724952608\n",
      "Prediction: 0.933278408634259\n",
      "Prediction: 1.0096243679880443\n",
      "Prediction: 0.015863660918280093\n",
      "Error: [0.00025166] Prediction: [0.01047439]\n",
      "Prediction: 0.012690928734624074\n",
      "Prediction: 1.0048440354251449\n",
      "Prediction: 0.06885328035453822\n",
      "Prediction: 0.9378049593953087\n",
      "Prediction: 1.0094289084256005\n",
      "Prediction: 0.014279128688109148\n",
      "Error: [0.00020389] Prediction: [0.00908632]\n",
      "Prediction: 0.011423302950487317\n",
      "Prediction: 1.0049728835766207\n",
      "Prediction: 0.06417703401547174\n",
      "Prediction: 0.9420249234470054\n",
      "Prediction: 1.0091556187703483\n",
      "Prediction: 0.012903104034744699\n",
      "Error: [0.00016649] Prediction: [0.00788534]\n",
      "Prediction: 0.010322483227795755\n",
      "Prediction: 1.0050019362900247\n",
      "Prediction: 0.0598185240369327\n",
      "Prediction: 0.945958965544628\n",
      "Prediction: 1.008827903519401\n",
      "Prediction: 0.011701357088675188\n",
      "Error: [0.00013692] Prediction: [0.00684512]\n",
      "Prediction: 0.009361085670940156\n",
      "Prediction: 1.0049560785395593\n",
      "Prediction: 0.05575613259691908\n",
      "Prediction: 0.9496263776578326\n",
      "Prediction: 1.008463974040389\n",
      "Prediction: 0.01064597448749887\n",
      "Error: [0.00011334] Prediction: [0.00594342]\n",
      "Prediction: 0.0085167795899991\n",
      "Prediction: 1.0048549038245613\n",
      "Prediction: 0.05196971837719908\n",
      "Prediction: 0.9530451661342731\n",
      "Prediction: 1.0080779179950745\n",
      "Prediction: 0.009714136425461158\n",
      "Error: [9.43644465e-05] Prediction: [0.00516133]\n",
      "Prediction: 0.007771309140368922\n",
      "Prediction: 1.0047137898394767\n",
      "Prediction: 0.04844051458601373\n",
      "Prediction: 0.9562321341553136\n",
      "Prediction: 1.007680553581917\n",
      "Prediction: 0.008887134680491668\n",
      "Error: [7.89811628e-05] Prediction: [0.00448269]\n",
      "Prediction: 0.0071097077443933315\n",
      "Prediction: 1.0045447586230452\n",
      "Prediction: 0.04515103424889627\n",
      "Prediction: 0.9592029595578604\n",
      "Prediction: 1.0072801115619745\n",
      "Prediction: 0.008149583840550999\n",
      "Error: [6.64157168e-05] Prediction: [0.00389363]\n",
      "Prediction: 0.006519667072440803\n",
      "Prediction: 1.0043571641582805\n",
      "Prediction: 0.04208498220489593\n",
      "Prediction: 0.9619722681433633\n",
      "Prediction: 1.006882779477462\n",
      "Prediction: 0.007488787445216145\n",
      "Error: [5.60819374e-05] Prediction: [0.0033822]\n",
      "Prediction: 0.0059910299561729205\n",
      "Prediction: 1.0041582418418307\n",
      "Prediction: 0.039227173298001836\n",
      "Prediction: 0.9645537026264178\n",
      "Prediction: 1.0064931356183808\n",
      "Prediction: 0.006894228363833431\n",
      "Error: [4.75303847e-05] Prediction: [0.00293809]\n",
      "Prediction: 0.005515382691066745\n",
      "Prediction: 1.0039535473892147\n",
      "Prediction: 0.0365634562993103\n",
      "Prediction: 0.9669599873960624\n",
      "Prediction: 1.0061144948022283\n",
      "Prediction: 0.006357158824565598\n",
      "Error: [4.04134683e-05] Prediction: [0.00255238]\n",
      "Prediction: 0.005085727059652476\n",
      "Prediction: 1.0037473072533607\n",
      "Prediction: 0.03408064313579232\n",
      "Prediction: 0.9692029892757029\n",
      "Prediction: 1.0057491836339687\n",
      "Prediction: 0.005870270390269217\n",
      "Error: [3.44600745e-05] Prediction: [0.00221737]\n",
      "Prediction: 0.004696216312215371\n",
      "Prediction: 1.0035426982369267\n",
      "Prediction: 0.031766443037304797\n",
      "Prediction: 0.9712937744745856\n",
      "Prediction: 1.0053987593908937\n",
      "Prediction: 0.005427428088342647\n",
      "Error: [2.94569757e-05] Prediction: [0.00192636]\n",
      "Prediction: 0.004341942470674116\n",
      "Prediction: 1.0033420704568132\n",
      "Prediction: 0.029609401245443378\n",
      "Prediction: 0.9732426619263209\n",
      "Prediction: 1.0050641838556422\n",
      "Prediction: 0.005023456035485228\n",
      "Error: [2.52351105e-05] Prediction: [0.00167357]\n",
      "Prediction: 0.0040187648283881855\n",
      "Prediction: 1.0031471249981265\n",
      "Prediction: 0.027598841956502734\n",
      "Prediction: 0.975059273209246\n",
      "Prediction: 1.0047459611610017\n",
      "Prediction: 0.0046539644092982516\n",
      "Error: [2.16593847e-05] Prediction: [0.00145397]\n",
      "Prediction: 0.003723171527438604\n",
      "Prediction: 1.0029590553351277\n",
      "Prediction: 0.025724815196641233\n",
      "Prediction: 0.976752579240235\n",
      "Prediction: 1.0044442469003911\n",
      "Prediction: 0.004315209630687881\n",
      "Error: [1.86210342e-05] Prediction: [0.0012632]\n",
      "Prediction: 0.0034521677045503026\n",
      "Prediction: 1.002778659786789\n",
      "Prediction: 0.023978047350711785\n",
      "Prediction: 0.9783309439286096\n",
      "Prediction: 1.0041589343086381\n",
      "Prediction: 0.004003981233304435\n",
      "Error: [1.60318657e-05] Prediction: [0.00109746]\n",
      "Prediction: 0.0032031849866435494\n",
      "Prediction: 1.0026064308249159\n",
      "Prediction: 0.02234989508742945\n",
      "Prediction: 0.9798021649705835\n",
      "Prediction: 1.0038897221570728\n",
      "Prediction: 0.003717510188256324\n",
      "Error: [1.3819882e-05] Prediction: [0.00095347]\n",
      "Prediction: 0.00297400815060506\n",
      "Prediction: 1.0024426258917722\n",
      "Prediction: 0.02083230244285751\n",
      "Prediction: 0.9811735119575814\n",
      "Prediction: 1.0036361680776156\n",
      "Prediction: 0.0034533944877432436\n",
      "Error: [1.19259335e-05] Prediction: [0.00082838]\n"
     ]
    }
   ],
   "source": [
    "weights = np.random.rand(3)\n",
    "alpha = 0.1\n",
    "\n",
    "input = streetlight_states[0]\n",
    "goal_prediction=walk_states[0]\n",
    "\n",
    "for i in range(40):\n",
    "    error_for_all_lights = 0\n",
    "    for row_index in range(len(streetlight_states)):\n",
    "        input = streetlight_states[row_index]\n",
    "        goal_prediction = walk_states[row_index]\n",
    "\n",
    "        prediction = input.dot(weights)\n",
    "\n",
    "        error = (goal_prediction - prediction) ** 2\n",
    "        error_for_all_lights += error\n",
    "\n",
    "        delta = prediction - goal_prediction\n",
    "        weights = weights - (alpha * (input * delta))\n",
    "        print(f\"Prediction: {prediction}\")\n",
    "    print(f\"Error: {error} Prediction: {error_for_all_lights}\")"
   ]
  },
  {
   "cell_type": "code",
   "execution_count": 5,
   "metadata": {},
   "outputs": [
    {
     "data": {
      "text/plain": [
       "array([-0.01716005,  0.98264083,  0.01992276])"
      ]
     },
     "execution_count": 5,
     "metadata": {},
     "output_type": "execute_result"
    }
   ],
   "source": [
    "weights"
   ]
  },
  {
   "cell_type": "markdown",
   "metadata": {},
   "source": [
    "# Let's make a deep neural net now"
   ]
  },
  {
   "cell_type": "code",
   "execution_count": 6,
   "metadata": {},
   "outputs": [],
   "source": [
    "def relu(x):\n",
    "    return (x > 0) * x\n",
    "\n",
    "alpha = 0.2\n",
    "hidden_size = 4\n",
    "\n",
    "weights_0_1 = 2 * np.random.random((3, hidden_size)) - 1\n",
    "weights_1_2 = 2 * np.random.random((hidden_size, 1)) - 1\n",
    "\n",
    "layer_0 = streetlight_states[0]\n",
    "layer_1 = relu(layer_0.dot(weights_0_1))\n",
    "layer_2 = np.dot(layer_1, weights_1_2)"
   ]
  },
  {
   "cell_type": "code",
   "execution_count": 7,
   "metadata": {},
   "outputs": [
    {
     "data": {
      "text/plain": [
       "array([1, 0, 1])"
      ]
     },
     "execution_count": 7,
     "metadata": {},
     "output_type": "execute_result"
    }
   ],
   "source": [
    "layer_0"
   ]
  },
  {
   "cell_type": "code",
   "execution_count": 8,
   "metadata": {},
   "outputs": [
    {
     "data": {
      "text/plain": [
       "array([-0.       , -0.       ,  0.0118443, -0.       ])"
      ]
     },
     "execution_count": 8,
     "metadata": {},
     "output_type": "execute_result"
    }
   ],
   "source": [
    "layer_1"
   ]
  },
  {
   "cell_type": "code",
   "execution_count": 9,
   "metadata": {},
   "outputs": [
    {
     "data": {
      "text/plain": [
       "array([0.00518332])"
      ]
     },
     "execution_count": 9,
     "metadata": {},
     "output_type": "execute_result"
    }
   ],
   "source": [
    "layer_2\n"
   ]
  },
  {
   "cell_type": "code",
   "execution_count": 10,
   "metadata": {},
   "outputs": [],
   "source": [
    "def relu2deriv(output):\n",
    "    return output > 0"
   ]
  },
  {
   "cell_type": "code",
   "execution_count": 16,
   "metadata": {},
   "outputs": [
    {
     "name": "stdout",
     "output_type": "stream",
     "text": [
      "Error: 0.11384873484291419\n",
      "Error: 0.010628167601735702\n",
      "Error: 0.0006400857489958602\n",
      "Error: 3.281269605975691e-05\n",
      "Error: 1.6145505410640569e-06\n",
      "Error: 7.870510196276315e-08\n"
     ]
    }
   ],
   "source": [
    "weights_0_1 = 2 * np.random.random((3, hidden_size)) - 1\n",
    "weights_1_2 = 2 * np.random.random((hidden_size, 1)) - 1\n",
    "\n",
    "for iteration in range(60):\n",
    "    layer_2_error = 0\n",
    "    for i in range(len(streetlight_states)):\n",
    "        layer_0 = streetlight_states[i:i+1]\n",
    "        layer_1 = relu(np.dot(layer_0, weights_0_1))\n",
    "        layer_2 = np.dot(layer_1, weights_1_2)\n",
    "\n",
    "        layer_2_error += np.sum((layer_2 - walk_states[i:i+1]) ** 2)\n",
    "\n",
    "        layer_2_delta = (layer_2 - walk_states[i:i+1])\n",
    "        layer_1_delta = layer_2_delta.dot(weights_1_2.T) * relu2deriv(layer_1)\n",
    "\n",
    "        weights_1_2 -= alpha * layer_1.T.dot(layer_2_delta)\n",
    "        weights_0_1 -= alpha * layer_0.T.dot(layer_1_delta)\n",
    "    \n",
    "    if iteration % 10 == 9:\n",
    "        print(f\"Error: {layer_2_error}\")"
   ]
  },
  {
   "cell_type": "code",
   "execution_count": null,
   "metadata": {},
   "outputs": [],
   "source": []
  }
 ],
 "metadata": {
  "interpreter": {
   "hash": "9de9ff3c605f136b0e415db853f0f4c8c5c36e6a82984c5181ea0abab459c474"
  },
  "kernelspec": {
   "display_name": "Python 3.9.10 ('venv': venv)",
   "language": "python",
   "name": "python3"
  },
  "language_info": {
   "codemirror_mode": {
    "name": "ipython",
    "version": 3
   },
   "file_extension": ".py",
   "mimetype": "text/x-python",
   "name": "python",
   "nbconvert_exporter": "python",
   "pygments_lexer": "ipython3",
   "version": "3.9.10"
  },
  "orig_nbformat": 4
 },
 "nbformat": 4,
 "nbformat_minor": 2
}
